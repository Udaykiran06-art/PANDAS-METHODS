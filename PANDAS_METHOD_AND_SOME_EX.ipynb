{
  "nbformat": 4,
  "nbformat_minor": 0,
  "metadata": {
    "colab": {
      "provenance": [],
      "authorship_tag": "ABX9TyP+EFR8qoohiO/48VHIrVzD",
      "include_colab_link": true
    },
    "kernelspec": {
      "name": "python3",
      "display_name": "Python 3"
    },
    "language_info": {
      "name": "python"
    }
  },
  "cells": [
    {
      "cell_type": "markdown",
      "metadata": {
        "id": "view-in-github",
        "colab_type": "text"
      },
      "source": [
        "<a href=\"https://colab.research.google.com/github/Udaykiran06-art/PANDAS-METHODS/blob/main/PANDAS_METHOD_AND_SOME_EX.ipynb\" target=\"_parent\"><img src=\"https://colab.research.google.com/assets/colab-badge.svg\" alt=\"Open In Colab\"/></a>"
      ]
    },
    {
      "cell_type": "code",
      "execution_count": null,
      "metadata": {
        "colab": {
          "base_uri": "https://localhost:8080/"
        },
        "id": "20FyzeEL4tNB",
        "outputId": "1a627146-f8e2-45f0-89b3-0623dcef55fb"
      },
      "outputs": [
        {
          "output_type": "stream",
          "name": "stdout",
          "text": [
            "0    56\n",
            "1    58\n",
            "2    57\n",
            "3    59\n",
            "4    60\n",
            "5    61\n",
            "6    62\n",
            "7    63\n",
            "8    64\n",
            "9    65\n",
            "dtype: int64\n",
            "0    56\n",
            "1    58\n",
            "2    57\n",
            "3    59\n",
            "4    60\n",
            "dtype: int64\n"
          ]
        }
      ],
      "source": [
        "#accessing first five values from series\n",
        "import pandas as pd\n",
        "marks = [56,58,57,59,60,61,62,63,64,65]\n",
        "s = pd.Series(marks)\n",
        "print(s)\n",
        "print(s.head())"
      ]
    },
    {
      "cell_type": "code",
      "source": [
        "#accessing last five values from series\n",
        "import pandas as pd\n",
        "marks = [56,58,57,59,60,61,62,63,64,65]\n",
        "s = pd.Series(marks)\n",
        "print(s)\n",
        "print(s.tail())"
      ],
      "metadata": {
        "colab": {
          "base_uri": "https://localhost:8080/"
        },
        "id": "VbexmkgB5Uxa",
        "outputId": "d075f57e-bbbf-403f-864f-8efc1eafb002"
      },
      "execution_count": null,
      "outputs": [
        {
          "output_type": "stream",
          "name": "stdout",
          "text": [
            "0    56\n",
            "1    58\n",
            "2    57\n",
            "3    59\n",
            "4    60\n",
            "5    61\n",
            "6    62\n",
            "7    63\n",
            "8    64\n",
            "9    65\n",
            "dtype: int64\n",
            "5    61\n",
            "6    62\n",
            "7    63\n",
            "8    64\n",
            "9    65\n",
            "dtype: int64\n"
          ]
        }
      ]
    },
    {
      "cell_type": "code",
      "source": [
        "#get the sum of series of values\n",
        "import pandas as pd\n",
        "marks = [10,20,30,40,50]\n",
        "s = pd.Series(marks)\n",
        "print(s.sum())\n",
        "print(s.dtype)"
      ],
      "metadata": {
        "colab": {
          "base_uri": "https://localhost:8080/"
        },
        "id": "drEu5nQR5rMO",
        "outputId": "399613e4-0374-4b96-a2a8-b4279432ad9f"
      },
      "execution_count": null,
      "outputs": [
        {
          "output_type": "stream",
          "name": "stdout",
          "text": [
            "150\n",
            "int64\n"
          ]
        }
      ]
    },
    {
      "cell_type": "code",
      "source": [
        "#get the mean of series values\n",
        "import pandas as pd\n",
        "marks = [10,20,30,40,50]\n",
        "s = pd.Series(marks)\n",
        "print(s.mean())\n",
        "print(s.dtype)"
      ],
      "metadata": {
        "colab": {
          "base_uri": "https://localhost:8080/"
        },
        "id": "efRTYAhp7dMg",
        "outputId": "b90466f7-80c8-4f69-b6be-def9069d5e5d"
      },
      "execution_count": null,
      "outputs": [
        {
          "output_type": "stream",
          "name": "stdout",
          "text": [
            "30.0\n",
            "int64\n"
          ]
        }
      ]
    },
    {
      "cell_type": "code",
      "source": [
        "#creating a describe method\n",
        "import pandas as pd\n",
        "marks = [10,20,30,40,50]\n",
        "s = pd.Series(marks)\n",
        "print(s.describe())\n"
      ],
      "metadata": {
        "colab": {
          "base_uri": "https://localhost:8080/"
        },
        "id": "FHnqNgRw7s7T",
        "outputId": "1dbb7b60-ae29-4097-9709-05eb79c2ac57"
      },
      "execution_count": null,
      "outputs": [
        {
          "output_type": "stream",
          "name": "stdout",
          "text": [
            "count     5.000000\n",
            "mean     30.000000\n",
            "std      15.811388\n",
            "min      10.000000\n",
            "25%      20.000000\n",
            "50%      30.000000\n",
            "75%      40.000000\n",
            "max      50.000000\n",
            "dtype: float64\n"
          ]
        }
      ]
    },
    {
      "cell_type": "code",
      "source": [
        "#get the unique values of series\n",
        "import pandas as pd\n",
        "marks = [10,20,30,40,50,10,10]\n",
        "s = pd.Series(marks)\n",
        "print(s.unique())\n"
      ],
      "metadata": {
        "colab": {
          "base_uri": "https://localhost:8080/"
        },
        "id": "dYMzaeHk8D17",
        "outputId": "0864fd1e-3696-4737-b86d-41a21ea0f044"
      },
      "execution_count": null,
      "outputs": [
        {
          "output_type": "stream",
          "name": "stdout",
          "text": [
            "[10 20 30 40 50]\n"
          ]
        }
      ]
    },
    {
      "cell_type": "code",
      "source": [
        "#get the nunique of series\n",
        "import pandas as pd\n",
        "marks = [10,20,30,40,50,10,20]\n",
        "s = pd.Series(marks)\n",
        "print(s.nunique())\n"
      ],
      "metadata": {
        "colab": {
          "base_uri": "https://localhost:8080/"
        },
        "id": "qepHIhBd8Vun",
        "outputId": "cd055810-a703-4323-b824-1f87ac8098d0"
      },
      "execution_count": null,
      "outputs": [
        {
          "output_type": "stream",
          "name": "stdout",
          "text": [
            "5\n"
          ]
        }
      ]
    },
    {
      "cell_type": "code",
      "source": [
        "#create a series of student scores and find minimum,maximum,average using series with attributes and methods\n",
        "import pandas as pd\n",
        "marks = [10,20,30,40,50]\n",
        "s = pd.Series(marks)\n",
        "print(s.mean())\n",
        "print(s.max())\n",
        "print(s.min())"
      ],
      "metadata": {
        "colab": {
          "base_uri": "https://localhost:8080/"
        },
        "id": "6aJm48w58o2g",
        "outputId": "4af57253-1e7e-473c-9831-9109dc565708"
      },
      "execution_count": null,
      "outputs": [
        {
          "output_type": "stream",
          "name": "stdout",
          "text": [
            "30.0\n",
            "50\n",
            "10\n"
          ]
        }
      ]
    },
    {
      "cell_type": "code",
      "source": [
        "#creating a series with duplicate elements and check is_unique and duplicated()and sum()\n",
        "import pandas as pd\n",
        "import numpy as np\n",
        "marks = [10,20,30,40,50,np.nan,60,np.nan]\n",
        "s = pd.Series(marks)\n",
        "print(s.is_unique)\n",
        "print()\n",
        "print(s.duplicated())\n",
        "print()\n",
        "print(s.sum())"
      ],
      "metadata": {
        "colab": {
          "base_uri": "https://localhost:8080/"
        },
        "id": "cd-pI-kt9i9r",
        "outputId": "77ffd2f0-8c2c-413e-fd51-60819294a31e"
      },
      "execution_count": null,
      "outputs": [
        {
          "output_type": "stream",
          "name": "stdout",
          "text": [
            "False\n",
            "\n",
            "0    False\n",
            "1    False\n",
            "2    False\n",
            "3    False\n",
            "4    False\n",
            "5    False\n",
            "6    False\n",
            "7     True\n",
            "dtype: bool\n",
            "\n",
            "210.0\n"
          ]
        }
      ]
    },
    {
      "cell_type": "code",
      "source": [
        "#creat a series with nan values\n",
        "import pandas as pd\n",
        "import numpy as np\n",
        "marks = [10,20,30,40,50,np.nan,60,np.nan]\n",
        "s = pd.Series(marks)\n",
        "print(s.count())\n",
        "print(s.size)"
      ],
      "metadata": {
        "colab": {
          "base_uri": "https://localhost:8080/"
        },
        "id": "0YL_4Fcm-gMV",
        "outputId": "2722c706-5710-4a0d-8a9b-2cb59611cdc7"
      },
      "execution_count": null,
      "outputs": [
        {
          "output_type": "stream",
          "name": "stdout",
          "text": [
            "6\n",
            "8\n"
          ]
        }
      ]
    },
    {
      "cell_type": "code",
      "source": [
        "#given a series s = pd.Series (['a','b',np.nan,'c',np.nan])\n",
        "import pandas as pd\n",
        "import numpy as np\n",
        "s = pd.Series (['a','b',np.nan,'c',np.nan])\n",
        "print(s.count())\n",
        "print(s.size)\n",
        "print(s.is_unique)\n",
        "print(s.hasnans)\n",
        "print(s.shape)\n"
      ],
      "metadata": {
        "colab": {
          "base_uri": "https://localhost:8080/"
        },
        "id": "FlESHx3u_Lmq",
        "outputId": "064ca812-a5f3-40a8-c6df-5ce380b5992b"
      },
      "execution_count": null,
      "outputs": [
        {
          "output_type": "stream",
          "name": "stdout",
          "text": [
            "3\n",
            "5\n",
            "False\n",
            "True\n",
            "(5,)\n"
          ]
        }
      ]
    },
    {
      "cell_type": "code",
      "source": [
        "#creating a series from a dictionary and print index,values,dtype,nbytes,memory_usage(deep=true)\n",
        "import pandas as pd\n",
        "marks = {'a':10,'b':20,'c':30,'d':40,'e':50}\n",
        "s = pd.Series(marks)\n",
        "print(s)\n",
        "print(s.index)\n",
        "print(s.values)\n",
        "print(s.dtype)\n",
        "print(s.nbytes)\n",
        "print(s.memory_usage(deep=True))"
      ],
      "metadata": {
        "id": "yyx3U613ANZ1",
        "colab": {
          "base_uri": "https://localhost:8080/"
        },
        "outputId": "f812263c-8055-4591-9b43-eb2581ac101f"
      },
      "execution_count": null,
      "outputs": [
        {
          "output_type": "stream",
          "name": "stdout",
          "text": [
            "a    10\n",
            "b    20\n",
            "c    30\n",
            "d    40\n",
            "e    50\n",
            "dtype: int64\n",
            "Index(['a', 'b', 'c', 'd', 'e'], dtype='object')\n",
            "[10 20 30 40 50]\n",
            "int64\n",
            "40\n",
            "290\n"
          ]
        }
      ]
    },
    {
      "cell_type": "code",
      "source": [
        "#get the sum of series of values with nan values\n",
        "import pandas as pd\n",
        "import numpy as np\n",
        "marks = [10,20,30,40,50,np.nan,60,np.nan]\n",
        "s = pd.Series(marks)\n",
        "print(s.sum())\n",
        "print(s.dtype)"
      ],
      "metadata": {
        "colab": {
          "base_uri": "https://localhost:8080/"
        },
        "id": "P9PWie9c6TJ0",
        "outputId": "de275f9c-2eee-4bb4-bcad-35f2753051ef"
      },
      "execution_count": null,
      "outputs": [
        {
          "output_type": "stream",
          "name": "stdout",
          "text": [
            "210.0\n",
            "float64\n"
          ]
        }
      ]
    },
    {
      "cell_type": "code",
      "source": [
        "#get the number of non-NaN values\n",
        "import pandas as pd\n",
        "import numpy as np\n",
        "marks = [10,20,30,40,50,np.nan,60,np.nan]\n",
        "s = pd.Series(marks)\n",
        "print(s)\n",
        "print(s.count())"
      ],
      "metadata": {
        "colab": {
          "base_uri": "https://localhost:8080/"
        },
        "id": "IKlCEsCj61Sr",
        "outputId": "d2e287c7-0de8-4f98-e9d8-d38b570f66c6"
      },
      "execution_count": null,
      "outputs": [
        {
          "output_type": "stream",
          "name": "stdout",
          "text": [
            "0    10.0\n",
            "1    20.0\n",
            "2    30.0\n",
            "3    40.0\n",
            "4    50.0\n",
            "5     NaN\n",
            "6    60.0\n",
            "7     NaN\n",
            "dtype: float64\n",
            "6\n"
          ]
        }
      ]
    }
  ]
}